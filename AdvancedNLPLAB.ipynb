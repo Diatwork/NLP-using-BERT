{
 "cells": [
  {
   "cell_type": "code",
   "execution_count": 1,
   "id": "62cd21c2-fc5e-4aaa-aa06-b15c34f611ac",
   "metadata": {},
   "outputs": [
    {
     "name": "stderr",
     "output_type": "stream",
     "text": [
      "2024-04-20 00:42:35.517014: E external/local_xla/xla/stream_executor/cuda/cuda_dnn.cc:9261] Unable to register cuDNN factory: Attempting to register factory for plugin cuDNN when one has already been registered\n",
      "2024-04-20 00:42:35.517054: E external/local_xla/xla/stream_executor/cuda/cuda_fft.cc:607] Unable to register cuFFT factory: Attempting to register factory for plugin cuFFT when one has already been registered\n",
      "2024-04-20 00:42:35.517723: E external/local_xla/xla/stream_executor/cuda/cuda_blas.cc:1515] Unable to register cuBLAS factory: Attempting to register factory for plugin cuBLAS when one has already been registered\n",
      "2024-04-20 00:42:35.521561: I tensorflow/core/platform/cpu_feature_guard.cc:182] This TensorFlow binary is optimized to use available CPU instructions in performance-critical operations.\n",
      "To enable the following instructions: AVX2 FMA, in other operations, rebuild TensorFlow with the appropriate compiler flags.\n",
      "2024-04-20 00:42:36.044721: W tensorflow/compiler/tf2tensorrt/utils/py_utils.cc:38] TF-TRT Warning: Could not find TensorRT\n"
     ]
    },
    {
     "name": "stdout",
     "output_type": "stream",
     "text": [
      "Category\n",
      "ham     3672\n",
      "spam    1499\n",
      "Name: count, dtype: int64\n"
     ]
    }
   ],
   "source": [
    "# 1. Reading data\n",
    "import tensorflow as tf\n",
    "import tensorflow_hub as hub\n",
    "import sklearn\n",
    "import tensorflow_text as text\n",
    "import pandas as pd\n",
    "\n",
    "# Data Read and Display\n",
    "df = pd.read_csv(\"spam_ham_dataset.csv\")\n",
    "df_grouped = df.groupby('Category')\n",
    "print(df_grouped['Category'].value_counts())\n",
    "# ham       ham         3672\n",
    "# spam      spam        1499"
   ]
  },
  {
   "cell_type": "code",
   "execution_count": 2,
   "id": "89d601cb-962f-42e2-886b-e679b2933831",
   "metadata": {},
   "outputs": [
    {
     "name": "stdout",
     "output_type": "stream",
     "text": [
      "(2998, 2)\n",
      "Category\n",
      "ham     1499\n",
      "spam    1499\n",
      "Name: count, dtype: int64\n"
     ]
    }
   ],
   "source": [
    "# 2. Dealing with Unbalanced Data\n",
    "df_spam = df[df['Category']=='spam']\n",
    "df_ham = df[df['Category']=='ham']\n",
    "df_ham_downsampled = df_ham.sample(df_spam.shape[0])\n",
    "df_balanced = pd.concat([df_ham_downsampled, df_spam])\n",
    "print(df_balanced.shape)\n",
    "print(df_balanced['Category'].value_counts())"
   ]
  },
  {
   "cell_type": "code",
   "execution_count": 3,
   "id": "b760c9a6-168c-40c5-8fa0-3a37ede9b6e9",
   "metadata": {},
   "outputs": [
    {
     "name": "stdout",
     "output_type": "stream",
     "text": [
      "     Category                                            Message  spam\n",
      "3748     spam  Subject: hi paliourg get all pills . everythin...     1\n",
      "2703     spam  Subject: [ wrenches ] 68 % off dreamweaver mx ...     1\n",
      "1517     spam  Subject: keep your memories alive with a free ...     1\n",
      "2774      ham  Subject: duns number changes\\r\\nfyi\\r\\n- - - -...     0\n",
      "1048      ham  Subject: potential list for april , 2000\\r\\nth...     0\n"
     ]
    }
   ],
   "source": [
    "# 3. Preparing Data\n",
    "#Converting catagory to Numeric\n",
    "df_balanced['spam']=df_balanced['Category'].apply(lambda x: 1 if x=='spam' else 0)\n",
    "print(df_balanced.sample(5))\n",
    "\n",
    "# Train test split\n",
    "from sklearn.model_selection import train_test_split\n",
    "X_train, X_test, y_train, y_test = train_test_split(df_balanced['Message'],df_balanced['spam'], stratify=df_balanced['spam'])"
   ]
  },
  {
   "cell_type": "code",
   "execution_count": 4,
   "id": "b4731dac-4554-4102-84ce-8890dc246914",
   "metadata": {},
   "outputs": [
    {
     "name": "stderr",
     "output_type": "stream",
     "text": [
      "2024-04-20 00:42:37.230970: I tensorflow/core/common_runtime/gpu/gpu_device.cc:1929] Created device /job:localhost/replica:0/task:0/device:GPU:0 with 14791 MB memory:  -> device: 0, name: Tesla V100-PCIE-16GB, pci bus id: 0000:01:00.0, compute capability: 7.0\n",
      "2024-04-20 00:42:43.439068: I external/local_tsl/tsl/platform/default/subprocess.cc:304] Start cannot spawn child process: No such file or directory\n"
     ]
    },
    {
     "data": {
      "text/plain": [
       "<tf.Tensor: shape=(2, 768), dtype=float32, numpy=\n",
       "array([[-0.8435168 , -0.5132726 , -0.88845736, ..., -0.7474886 ,\n",
       "        -0.75314736,  0.91964483],\n",
       "       [-0.8720836 , -0.50543964, -0.94446677, ..., -0.858475  ,\n",
       "        -0.7174535 ,  0.8808298 ]], dtype=float32)>"
      ]
     },
     "execution_count": 4,
     "metadata": {},
     "output_type": "execute_result"
    }
   ],
   "source": [
    "# 4. Get BERT base sentence embeddings\n",
    "bert_preprocess = hub.KerasLayer(\"https://tfhub.dev/tensorflow/bert_en_uncased_preprocess/3\")\n",
    "bert_encoder = hub.KerasLayer(\"https://tfhub.dev/tensorflow/bert_en_uncased_L-12_H-768_A-12/4\")\n",
    "def get_sentence_embeding(sentences):\n",
    "    preprocessed_text = bert_preprocess(sentences)\n",
    "    return bert_encoder(preprocessed_text)['pooled_output']\n",
    "\n",
    "get_sentence_embeding([\n",
    "    \"500$ discount. hurry up\",\n",
    "    \"Bhavin, are you up for a volleybal game tomorrow?\"]\n",
    ")"
   ]
  },
  {
   "cell_type": "code",
   "execution_count": 5,
   "id": "81701519-a40a-40d7-b113-59050a8e7ee9",
   "metadata": {},
   "outputs": [
    {
     "name": "stdout",
     "output_type": "stream",
     "text": [
      "[[0.9911089]]\n",
      "[[0.84703803]]\n",
      "[[0.9872033]]\n",
      "[[0.9872033]]\n"
     ]
    }
   ],
   "source": [
    "# 6. Test Sentence Embeddings\n",
    "# Get embeding vectors for few sample words. Compare them using cosine similarity\n",
    "e = get_sentence_embeding([\"banana\",\"grapes\",\"mango\",\"jeff bezos\",\"elon musk\",\n",
    "    \"bill gates\"])\n",
    "from sklearn.metrics.pairwise import cosine_similarity\n",
    "print(cosine_similarity([e[0]],[e[1]]))\n",
    "print(cosine_similarity([e[0]],[e[3]]))\n",
    "print(cosine_similarity([e[3]],[e[4]]))\n",
    "# Jeff bezos and Elon musk are more similar then Jeff bezos and banana as indicated above\n",
    "print(cosine_similarity([e[3]],[e[4]]))"
   ]
  },
  {
   "cell_type": "code",
   "execution_count": 6,
   "id": "9b3d237a-f436-4277-bad5-f768c91e0299",
   "metadata": {},
   "outputs": [
    {
     "name": "stdout",
     "output_type": "stream",
     "text": [
      "Model: \"model\"\n",
      "__________________________________________________________________________________________________\n",
      " Layer (type)                Output Shape                 Param #   Connected to                  \n",
      "==================================================================================================\n",
      " text (InputLayer)           [(None,)]                    0         []                            \n",
      "                                                                                                  \n",
      " keras_layer (KerasLayer)    {'input_mask': (None, 128)   0         ['text[0][0]']                \n",
      "                             , 'input_word_ids': (None,                                           \n",
      "                              128),                                                               \n",
      "                              'input_type_ids': (None,                                            \n",
      "                             128)}                                                                \n",
      "                                                                                                  \n",
      " keras_layer_1 (KerasLayer)  {'default': (None, 768),     1094822   ['keras_layer[0][0]',         \n",
      "                              'encoder_outputs': [(None   41         'keras_layer[0][1]',         \n",
      "                             , 128, 768),                            'keras_layer[0][2]']         \n",
      "                              (None, 128, 768),                                                   \n",
      "                              (None, 128, 768),                                                   \n",
      "                              (None, 128, 768),                                                   \n",
      "                              (None, 128, 768),                                                   \n",
      "                              (None, 128, 768),                                                   \n",
      "                              (None, 128, 768),                                                   \n",
      "                              (None, 128, 768),                                                   \n",
      "                              (None, 128, 768),                                                   \n",
      "                              (None, 128, 768),                                                   \n",
      "                              (None, 128, 768),                                                   \n",
      "                              (None, 128, 768)],                                                  \n",
      "                              'sequence_output': (None,                                           \n",
      "                              128, 768),                                                          \n",
      "                              'pooled_output': (None, 7                                           \n",
      "                             68)}                                                                 \n",
      "                                                                                                  \n",
      " dropout (Dropout)           (None, 768)                  0         ['keras_layer_1[0][13]']      \n",
      "                                                                                                  \n",
      " output (Dense)              (None, 1)                    769       ['dropout[0][0]']             \n",
      "                                                                                                  \n",
      "==================================================================================================\n",
      "Total params: 109483010 (417.64 MB)\n",
      "Trainable params: 769 (3.00 KB)\n",
      "Non-trainable params: 109482241 (417.64 MB)\n",
      "__________________________________________________________________________________________________\n",
      "None\n"
     ]
    }
   ],
   "source": [
    "# 7. Build Model\n",
    "#  Bert layers\n",
    "text_input = tf.keras.layers.Input(shape=(), dtype=tf.string, name='text')\n",
    "preprocessed_text = bert_preprocess(text_input)\n",
    "outputs = bert_encoder(preprocessed_text)\n",
    "\n",
    "# Neural network layers\n",
    "l = tf.keras.layers.Dropout(0.1, name=\"dropout\")(outputs['pooled_output'])\n",
    "l = tf.keras.layers.Dense(1, activation='sigmoid', name=\"output\")(l)\n",
    "# Use inputs and outputs to construct a final model\n",
    "model = tf.keras.Model(inputs=[text_input], outputs = [l])\n",
    "print(model.summary())\n",
    "METRICS = [tf.keras.metrics.BinaryAccuracy(name='accuracy'),\n",
    "      tf.keras.metrics.Precision(name='precision'),\n",
    "      tf.keras.metrics.Recall(name='recall')]\n",
    "model.compile(optimizer='adam',\n",
    "              loss='binary_crossentropy',\n",
    "              metrics=METRICS)"
   ]
  },
  {
   "cell_type": "code",
   "execution_count": 7,
   "id": "6e817836-bf43-4377-81f1-c310b45c1288",
   "metadata": {},
   "outputs": [
    {
     "name": "stdout",
     "output_type": "stream",
     "text": [
      "Epoch 1/10\n",
      " 1/71 [..............................] - ETA: 5:28 - loss: 0.8584 - accuracy: 0.4375 - precision: 0.4074 - recall: 0.8462"
     ]
    },
    {
     "name": "stderr",
     "output_type": "stream",
     "text": [
      "2024-04-20 00:44:48.012046: I external/local_xla/xla/service/service.cc:168] XLA service 0x7f2560158380 initialized for platform CUDA (this does not guarantee that XLA will be used). Devices:\n",
      "2024-04-20 00:44:48.012074: I external/local_xla/xla/service/service.cc:176]   StreamExecutor device (0): Tesla V100-PCIE-16GB, Compute Capability 7.0\n",
      "2024-04-20 00:44:48.015648: I tensorflow/compiler/mlir/tensorflow/utils/dump_mlir_util.cc:269] disabling MLIR crash reproducer, set env var `MLIR_CRASH_REPRODUCER_DIRECTORY` to enable.\n",
      "2024-04-20 00:44:48.038615: I external/local_xla/xla/stream_executor/cuda/cuda_dnn.cc:454] Loaded cuDNN version 8905\n",
      "WARNING: All log messages before absl::InitializeLog() is called are written to STDERR\n",
      "I0000 00:00:1713566688.098170   22875 device_compiler.h:186] Compiled cluster using XLA!  This line is logged at most once for the lifetime of the process.\n"
     ]
    },
    {
     "name": "stdout",
     "output_type": "stream",
     "text": [
      "71/71 [==============================] - 17s 179ms/step - loss: 0.6603 - accuracy: 0.5867 - precision: 0.5889 - recall: 0.5747\n",
      "Epoch 2/10\n",
      "71/71 [==============================] - 13s 180ms/step - loss: 0.5723 - accuracy: 0.7046 - precision: 0.7114 - recall: 0.6886\n",
      "Epoch 3/10\n",
      "71/71 [==============================] - 13s 179ms/step - loss: 0.5260 - accuracy: 0.7389 - precision: 0.7399 - recall: 0.7367\n",
      "Epoch 4/10\n",
      "71/71 [==============================] - 13s 181ms/step - loss: 0.4980 - accuracy: 0.7709 - precision: 0.7721 - recall: 0.7687\n",
      "Epoch 5/10\n",
      "71/71 [==============================] - 13s 182ms/step - loss: 0.4580 - accuracy: 0.8074 - precision: 0.8110 - recall: 0.8016\n",
      "Epoch 6/10\n",
      "71/71 [==============================] - 13s 183ms/step - loss: 0.4388 - accuracy: 0.8234 - precision: 0.8308 - recall: 0.8123\n",
      "Epoch 7/10\n",
      "71/71 [==============================] - 13s 185ms/step - loss: 0.4156 - accuracy: 0.8350 - precision: 0.8329 - recall: 0.8381\n",
      "Epoch 8/10\n",
      "71/71 [==============================] - 13s 185ms/step - loss: 0.3990 - accuracy: 0.8585 - precision: 0.8631 - recall: 0.8523\n",
      "Epoch 9/10\n",
      "71/71 [==============================] - 13s 186ms/step - loss: 0.3764 - accuracy: 0.8643 - precision: 0.8640 - recall: 0.8648\n",
      "Epoch 10/10\n",
      "71/71 [==============================] - 13s 187ms/step - loss: 0.3624 - accuracy: 0.8665 - precision: 0.8640 - recall: 0.8701\n",
      "24/24 [==============================] - 5s 182ms/step - loss: 0.3547 - accuracy: 0.8680 - precision: 0.9395 - recall: 0.7867\n",
      "24/24 [==============================] - 5s 182ms/step\n",
      "[1 1 0 1 0 0 0 0 0 1 1 1 1 1 1 1 0 0 1 1 0 0 0 1 1 0 0 0 1 1 1 0 0 0 1 1 0\n",
      " 0 0 0 0 0 1 0 1 0 0 0 1 0 0 0 1 1 0 1 0 0 1 0 0 0 1 1 1 1 1 1 0 1 0 0 1 0\n",
      " 0 1 1 0 1 0 1 1 0 1 0 0 1 1 0 0 0 1 0 1 0 0 0 0 0 0 0 1 1 0 0 0 0 0 0 0 0\n",
      " 0 1 0 1 0 1 1 1 0 0 1 0 1 0 1 1 1 0 1 1 1 0 0 0 1 0 1 0 0 1 0 0 1 0 0 0 0\n",
      " 0 0 0 0 0 0 1 0 0 0 0 1 0 1 0 0 0 0 1 0 0 0 1 1 1 1 0 1 1 1 0 0 1 0 0 0 0\n",
      " 0 0 1 0 0 0 0 1 0 0 0 0 0 0 0 0 0 0 0 0 1 0 0 1 1 0 0 1 0 0 1 0 1 1 0 0 0\n",
      " 0 1 0 0 1 1 0 0 0 1 1 0 0 0 1 1 0 1 0 0 1 1 0 1 0 1 1 0 0 1 0 1 0 1 0 1 1\n",
      " 0 0 1 1 0 0 1 0 0 1 1 0 0 1 0 0 0 0 0 0 0 0 1 0 0 1 0 0 1 0 1 0 0 0 1 1 0\n",
      " 0 1 1 1 1 1 1 0 0 1 0 1 1 0 1 1 0 0 0 0 1 1 1 1 0 0 1 1 1 1 0 1 0 0 0 0 0\n",
      " 0 0 0 1 1 0 0 0 0 0 0 1 1 1 0 0 1 0 0 1 0 0 0 0 1 1 1 0 0 0 0 1 0 0 0 1 0\n",
      " 0 1 0 0 1 0 1 0 1 1 0 1 1 1 1 1 0 0 0 0 0 1 1 0 0 0 1 0 1 0 0 0 0 0 1 0 0\n",
      " 1 1 1 1 0 0 0 1 1 0 0 0 0 0 1 0 0 0 1 0 0 0 1 0 1 0 0 0 0 0 1 1 1 1 1 1 0\n",
      " 0 0 1 0 0 1 0 1 1 1 1 1 1 0 0 1 1 1 0 0 0 1 0 1 0 0 1 0 1 0 0 1 0 1 1 1 1\n",
      " 1 0 0 1 0 1 0 0 1 1 0 0 0 0 1 1 1 1 1 1 0 1 0 1 0 0 1 0 0 0 1 0 0 1 0 0 0\n",
      " 0 1 0 1 1 1 0 1 0 0 1 1 0 1 0 0 1 0 0 0 1 0 1 1 0 0 0 0 1 0 0 0 0 1 0 0 1\n",
      " 1 0 0 0 0 1 1 1 0 0 0 0 0 0 0 0 0 1 1 0 1 0 0 0 0 1 0 0 1 0 1 0 0 0 0 1 1\n",
      " 0 0 1 0 1 1 0 0 0 0 0 1 0 0 0 0 1 1 0 1 0 0 0 1 0 0 0 0 1 0 1 0 1 0 0 1 1\n",
      " 1 1 0 0 1 1 0 1 1 0 1 1 0 0 0 0 0 0 0 1 1 1 0 0 0 1 1 1 0 1 0 1 0 1 1 1 1\n",
      " 1 0 1 0 0 0 1 1 1 0 0 1 1 0 0 0 1 0 1 0 1 1 0 0 1 0 0 1 0 0 0 1 0 0 0 1 1\n",
      " 1 1 0 1 1 0 1 1 1 0 0 1 0 0 0 1 0 0 0 0 1 0 0 1 0 1 0 0 1 0 1 1 0 1 0 1 0\n",
      " 1 1 1 0 1 1 1 1 1 0]\n"
     ]
    }
   ],
   "source": [
    "# 8. Train and Evaluate \n",
    "model.fit(X_train, y_train, epochs=10)\n",
    "model.evaluate(X_test, y_test)\n",
    "\n",
    "y_predicted = model.predict(X_test)\n",
    "y_predicted = y_predicted.flatten()\n",
    "import numpy as np\n",
    "y_predicted = np.where(y_predicted > 0.5, 1, 0)\n",
    "print(y_predicted)"
   ]
  },
  {
   "cell_type": "code",
   "execution_count": 9,
   "id": "21d4de04-0167-4879-8da5-adaaebaa664c",
   "metadata": {},
   "outputs": [
    {
     "name": "stdout",
     "output_type": "stream",
     "text": [
      "              precision    recall  f1-score   support\n",
      "\n",
      "           0       0.82      0.95      0.88       375\n",
      "           1       0.94      0.79      0.86       375\n",
      "\n",
      "    accuracy                           0.87       750\n",
      "   macro avg       0.88      0.87      0.87       750\n",
      "weighted avg       0.88      0.87      0.87       750\n",
      "\n"
     ]
    },
    {
     "data": {
      "image/png": "[encoded data removed]",
      "text/plain": [
       "<Figure size 640x480 with 2 Axes>"
      ]
     },
     "metadata": {},
     "output_type": "display_data"
    }
   ],
   "source": [
    "# 9. Display Results\n",
    "from sklearn.metrics import confusion_matrix, classification_report\n",
    "cm = confusion_matrix(y_test, y_predicted)\n",
    "from matplotlib import pyplot as plt\n",
    "import seaborn as sn\n",
    "sn.heatmap(cm, annot=True, fmt='d')\n",
    "plt.xlabel('Predicted')\n",
    "plt.ylabel('Truth')\n",
    "print(classification_report(y_test, y_predicted))"
   ]
  },
  {
   "cell_type": "code",
   "execution_count": 12,
   "id": "0f10006a-ef77-4f9e-9f78-82dcc29f29e1",
   "metadata": {},
   "outputs": [
    {
     "name": "stdout",
     "output_type": "stream",
     "text": [
      "1/1 [==============================] - 0s 28ms/step\n"
     ]
    },
    {
     "data": {
      "text/plain": [
       "array([[0.49204704],\n",
       "       [0.44072098],\n",
       "       [0.37721717],\n",
       "       [0.68176264],\n",
       "       [0.8307592 ]], dtype=float32)"
      ]
     },
     "execution_count": 12,
     "metadata": {},
     "output_type": "execute_result"
    }
   ],
   "source": [
    "# 10. Inference\n",
    "reviews = [\n",
    "    'Enter a chance to win $5000, hurry up, offer valid until march 31, 2021',\n",
    "    'You are awarded a SiPix Digital Camera! call 09061221061 from landline. Delivery within 28days. T Cs Box177. M221BP. 2yr warranty. 150ppm. 16 . p pÂ£3.99',\n",
    "    'it to 80488. Your 500 free text messages are valid until 31 December 2005.',\n",
    "    'Hey Sam, Are you coming for a cricket game tomorrow',\n",
    "    \"Why don't you wait 'til at least wednesday to see if you get your .\"\n",
    "]\n",
    "model.predict(reviews)"
   ]
  },
  {
   "cell_type": "code",
   "execution_count": null,
   "id": "9b23cc9c-06fe-4b8d-a680-fdd3bae1d72e",
   "metadata": {},
   "outputs": [],
   "source": []
  }
 ],
 "metadata": {
  "kernelspec": {
   "display_name": "Python 3 (ipykernel)",
   "language": "python",
   "name": "python3"
  },
  "language_info": {
   "codemirror_mode": {
    "name": "ipython",
    "version": 3
   },
   "file_extension": ".py",
   "mimetype": "text/x-python",
   "name": "python",
   "nbconvert_exporter": "python",
   "pygments_lexer": "ipython3",
   "version": "3.10.10"
  }
 },
 "nbformat": 4,
 "nbformat_minor": 5
}
